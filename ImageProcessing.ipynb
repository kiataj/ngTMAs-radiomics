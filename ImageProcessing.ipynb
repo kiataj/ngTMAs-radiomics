{
 "cells": [
  {
   "cell_type": "code",
   "execution_count": 54,
   "id": "cfdbaa38-827e-4f9b-ad34-593019f8e928",
   "metadata": {},
   "outputs": [],
   "source": [
    "import os\n",
    "import numpy as np\n",
    "import matplotlib.pyplot as plt\n",
    "import SimpleITK as sitk\n",
    "import radiomics\n",
    "import itertools\n",
    "import warnings\n",
    "from glob import glob\n",
    "import radiomics\n",
    "import cv2"
   ]
  },
  {
   "cell_type": "markdown",
   "id": "7793977b-4c99-4f6e-9ad7-0bdb4a0ab761",
   "metadata": {
    "tags": []
   },
   "source": [
    "# ImageProcessing\n",
    "\n",
    "This notebook is dedicated to performing image processing tasks that are mainly applied before feature extraction to provide meaningful images that result in reproducible, and interpretable feature space. The tasks implemented here are as follows:\n",
    "\n",
    "- Histogram matching\n",
    "- Segmentation\n",
    "- Filtered image normalization\n",
    "\n",
    "The tasks mainly make use of ImageProcessing class from tmaR module. "
   ]
  },
  {
   "cell_type": "code",
   "execution_count": 8,
   "id": "3d291785-5b06-4b82-ade7-3cb1b89dfc18",
   "metadata": {},
   "outputs": [],
   "source": [
    "writer = sitk.ImageFileWriter()\n",
    "binarizer = sitk.BinaryThresholdImageFilter()\n",
    "multiply = sitk.MultiplyImageFilter()\n",
    "\n",
    "rescaler = sitk.RescaleIntensityImageFilter()\n",
    "rescaler.SetOutputMinimum(0)  # 8-bit minimum\n",
    "rescaler.SetOutputMaximum(255)  # 8-bit maximum"
   ]
  },
  {
   "cell_type": "markdown",
   "id": "7996df34-b0c1-466e-b412-072cf538b60e",
   "metadata": {
    "tags": []
   },
   "source": [
    "## Histogram Matching\n",
    "\n",
    "Laszlo G. Nyul, Jayaram K. Udupa, and Xuan Zhang, \"New Variants of a Method of MRI Scale Standardization\", IEEE Transactions on Medical Imaging, 19(2):143-150, 2000.\n",
    "<br>\n",
    "https://simpleitk.org/doxygen/latest/html/classitk_1_1simple_1_1HistogramMatchingImageFilter.html\n",
    "\n"
   ]
  },
  {
   "cell_type": "code",
   "execution_count": 4,
   "id": "d1f12b51-d017-487f-b39d-c94f4f109a1a",
   "metadata": {},
   "outputs": [],
   "source": [
    "HistMatch = sitk.HistogramMatchingImageFilter()\n",
    "\n",
    "# Set parameters\n",
    "HistMatch.SetNumberOfHistogramLevels(256)  # Number of bins in the histogram\n",
    "HistMatch.SetNumberOfMatchPoints(50)       # Number of points to use for matching\n",
    "HistMatch.ThresholdAtMeanIntensityOn() # Whether to threshold at mean intensity"
   ]
  },
  {
   "cell_type": "code",
   "execution_count": null,
   "id": "5594a306-1f86-4dfd-bc1c-39b7a7177f34",
   "metadata": {},
   "outputs": [],
   "source": [
    "os.chdir('') # path to the folder\n",
    "ImageNames = glob('*.tif') # all the tif files are read for histogram template matching \n",
    "ImageNames.remove(\"Reference.tif\") # there must be an image in the folder with Reference.tif name as the reference for the process\n",
    "ReferenceImage = sitk.ReadImage('Reference.tif')\n",
    "for fid in ImageNames:\n",
    "    InputImage = sitk.ReadImage(fid)\n",
    "    OutputImage = HistMatch.Execute(InputImage,ReferenceImage)\n",
    "    writer.SetFileName(f\"Proc_{fid}\")\n",
    "    writer.Execute(OutputImage)\n",
    "    del OutputImage, InputImage"
   ]
  },
  {
   "cell_type": "markdown",
   "id": "1fc4a9b6-d3bd-4800-ac4d-10675aa893e7",
   "metadata": {},
   "source": [
    "## Filtered image normalization\n",
    "\n",
    "Here we have functions that automatically normalize filtered images that were failed to normalize with the pyradiomics library internal code. And as a results discretized images are **informationless**.\n",
    "This is because of embedding artifacts associated with the TMAs, are not commonly encountered where pyradiomics or other libraries are used. There exist several filters we are using for feature extraction. We divide these filters to two categories, 1 - Immune and 2- prone to normalization problem:<br>\n",
    "\n",
    "**Immune:**\n",
    "- **Original:** This image is manually normalized as said above in histogram matching section.\n",
    "- **Exponential:** Due to its nature it increases contrast and no normalization is needed.  \n",
    "- **Square:** Due to its nature it increases contrast and no normalization is needed.  \n",
    "- **LBP3D:** It is a texture enconding algorithm and does not make sense to normalized it.\n",
    "\n",
    "<br> **Prone:**\n",
    "- **Gradient:** This highlights variations in the image and since the air holes and embedding artifacts are most abrupt change in the images, they tend to dominate higher gray values, as a result, phenotypical charectristics are dumped into a narrow span of dynamic range and in discretization infornation loss is considerable.\n",
    "- **LoG:** Same as Gradient filter.\n",
    "- **Wavelet:** Same as Gradient filter.\n",
    "- Logarithm\n",
    "- SquareRoot"
   ]
  },
  {
   "cell_type": "code",
   "execution_count": null,
   "id": "a4da43d5-aa3d-49c7-9ac2-4229230fca0e",
   "metadata": {},
   "outputs": [],
   "source": [
    "os.chdir('')\n",
    "binary = sitk.ReadImage('mask.tif', imageIO=\"TIFFImageIO\")\n",
    "\n",
    "binarizer.SetUpperThreshold(65535)\n",
    "binarizer.SetLowerThreshold(1)\n",
    "binary = binarizer.Execute(binary)\n",
    "binary = sitk.Cast(binary, sitk.sitkUInt8)\n",
    "\n",
    "stack = sitk.ReadImage('image.tif', imageIO=\"TIFFImageIO\")"
   ]
  },
  {
   "cell_type": "markdown",
   "id": "9dbc59e6-f47d-4a70-9b05-5b7b3f0faa1f",
   "metadata": {
    "tags": []
   },
   "source": [
    "### Active Filters"
   ]
  },
  {
   "cell_type": "markdown",
   "id": "b978d6b6-9ebf-411c-acaf-bfd4896bfc21",
   "metadata": {},
   "source": [
    "#### 1- LoG\n",
    "\n",
    "Laplacian of Gaussian filter, edge enhancement filter. Emphasizes areas of gray level change, where sigma defines how coarse the emphasised texture should be. A low sigma emphasis on fine textures (change over a short distance), where a high sigma value emphasises coarse textures (gray level change over a large distance)."
   ]
  },
  {
   "cell_type": "code",
   "execution_count": 35,
   "id": "78ffc081-a29d-4138-82e0-2128b8923e0e",
   "metadata": {},
   "outputs": [],
   "source": [
    "for Image, ImageName, inputKwargs in radiomics.imageoperations.getLoGImage(stack, binary,sigma=[2]):\n",
    "    writer.SetFileName(f\"{ImageName}.tif\")\n",
    "    Image = rescaler.Execute(Image)\n",
    "    writer.Execute(sitk.Cast(Image,sitk.sitkUInt8))\n",
    "    del Image"
   ]
  },
  {
   "cell_type": "markdown",
   "id": "107619bd-8823-4d3d-9bb2-7e8be7f88c14",
   "metadata": {},
   "source": [
    "#### 2- Wavelet\n",
    "Wavelet filtering, yields 8 decompositions per level (all possible combinations of applying either a High or a Low pass filter in each of the three dimensions.\n",
    "\n",
    "For RAM usage optimization we don't have a separate block for each step of generation, processing, and writing of wavelet transform."
   ]
  },
  {
   "cell_type": "code",
   "execution_count": 36,
   "id": "d403f0bc-08c9-4022-89bf-136059bbe288",
   "metadata": {},
   "outputs": [],
   "source": [
    "# Rescale intensity to 8-bit\n",
    "for DecompImage, DecompName, inputKwargs in radiomics.imageoperations.getWaveletImage(stack, binary, wavelet='haar'):\n",
    "    DecompImage = rescaler.Execute(DecompImage)\n",
    "    DecompImage = sitk.Cast(DecompImage,sitk.sitkUInt8)\n",
    "    writer.SetFileName(DecompName+'.tif')\n",
    "    writer.Execute(DecompImage)\n",
    "    del DecompImage"
   ]
  },
  {
   "cell_type": "markdown",
   "id": "ccb90d9d-c47d-43af-9930-80a630a1e690",
   "metadata": {
    "tags": []
   },
   "source": [
    "### Passive Filters\n",
    "\n",
    "#### 1- Logarithm\n",
    "takes the logarithm of the absolute intensity + 1. Values are scaled to original range and negative original values are made negative again after application of filter."
   ]
  },
  {
   "cell_type": "code",
   "execution_count": 37,
   "id": "b69a8b0a-c2f0-4ec6-a36a-d11284a8fdf3",
   "metadata": {},
   "outputs": [],
   "source": [
    "for Image, ImageName, inputKwargs in radiomics.imageoperations.getLogarithmImage(stack, binary):\n",
    "    writer.SetFileName(f\"{ImageName}.tif\")\n",
    "    Image = rescaler.Execute(Image)\n",
    "    writer.Execute(sitk.Cast(Image,sitk.sitkUInt8))"
   ]
  },
  {
   "cell_type": "markdown",
   "id": "8838f95e-22a0-4b92-bd1c-e8a4f81bd7a8",
   "metadata": {},
   "source": [
    "#### 2- SquareRoot\n",
    "Takes the square root of the absolute image intensities and scales them back to original range. Negative values in the original image will be made negative again after application of filter."
   ]
  },
  {
   "cell_type": "code",
   "execution_count": 38,
   "id": "30df56b7-fe69-4fa8-a008-54f191b459a3",
   "metadata": {},
   "outputs": [],
   "source": [
    "for Image, ImageName, inputKwargs in radiomics.imageoperations.getSquareRootImage(stack, binary):\n",
    "    writer.SetFileName(f\"{ImageName}.tif\")\n",
    "    Image = rescaler.Execute(Image)\n",
    "    writer.Execute(sitk.Cast(Image,sitk.sitkUInt8))"
   ]
  },
  {
   "cell_type": "markdown",
   "id": "1953118f-6d89-460d-a8a4-2bc8ce17a70f",
   "metadata": {},
   "source": [
    "#### 3- Gradient\n",
    "Returns the gradient magnitude."
   ]
  },
  {
   "cell_type": "code",
   "execution_count": 39,
   "id": "ad8c2fe3-1b4f-44da-8068-1f95f7e909d7",
   "metadata": {},
   "outputs": [],
   "source": [
    "for Image, ImageName, inputKwarg in radiomics.imageoperations.getGradientImage(stack, binary):\n",
    "    writer.SetFileName(f\"{ImageName}.tif\")\n",
    "    Image = rescaler.Execute(Image)\n",
    "    writer.Execute(sitk.Cast(Image,sitk.sitkUInt8))"
   ]
  },
  {
   "cell_type": "markdown",
   "id": "d0a014f7-79c3-456e-ad44-c34f39c10c4a",
   "metadata": {},
   "source": [
    "#### 4- Exponential\n",
    "Takes the the exponential, where filtered intensity is e to the power of absoluteintensity. Values are scaled to original\n",
    "range and negative original values are made negative again after application of filter."
   ]
  },
  {
   "cell_type": "code",
   "execution_count": 52,
   "id": "e94ae4d2-0b0e-45df-981f-9a31c2ff6bb5",
   "metadata": {},
   "outputs": [],
   "source": [
    "for Image, ImageName, inputKwargs in radiomics.imageoperations.getExponentialImage(stack, binary):\n",
    "    writer.SetFileName(f\"{ImageName}.tif\")\n",
    "    Image = rescaler.Execute(Image)\n",
    "    writer.Execute(sitk.Cast(Image,sitk.sitkUInt8))"
   ]
  },
  {
   "cell_type": "markdown",
   "id": "0e9290fb-96d4-4042-bc14-3b82813be9eb",
   "metadata": {},
   "source": [
    "#### 5- Square\n",
    "Takes the square of the image intensities and linearly scales them back to the original range. Negative values in79\n",
    "the original image will be made negative again after application of filter.80"
   ]
  },
  {
   "cell_type": "code",
   "execution_count": 53,
   "id": "4c9907a0-a7bf-4a05-9bed-92ec5a8b82c7",
   "metadata": {},
   "outputs": [],
   "source": [
    "for iMAGE, ImageName, inputKwargs in radiomics.imageoperations.getSquareImage(stack, binary):\n",
    "    writer.SetFileName(f\"{ImageName}.tif\")\n",
    "    Image = rescaler.Execute(Image)\n",
    "    writer.Execute(sitk.Cast(Image,sitk.sitkUInt8))"
   ]
  },
  {
   "cell_type": "markdown",
   "id": "651f1f7e-5a84-4b63-9514-ea15f0b18729",
   "metadata": {},
   "source": [
    "## Histogram Stretching"
   ]
  },
  {
   "cell_type": "code",
   "execution_count": null,
   "id": "c6083688-3203-40e5-8651-28e1efef5489",
   "metadata": {},
   "outputs": [],
   "source": [
    "path = '' # parent folder with sub folders including the images to be stretched\n",
    "files = os.walk(path) \n",
    "name = 'wavelet-HLH.tif' # name of the filter/image to be stretched. \n",
    "writer = sitk.ImageFileWriter()\n",
    "Operator = sitk.IntensityWindowingImageFilter()\n",
    "minimum, maximum = [30,220] # Minimum and maximum of the window used for stretching the gray values\n",
    "\n",
    "for root, dirs, files in files:\n",
    "    os.chdir(root)\n",
    "    if any(name in x for x in files) == True:\n",
    "        image = sitk.ReadImage(name, imageIO=\"TIFFImageIO\")\n",
    "        image = sitk.IntensityWindowing(image,windowMinimum=minimum,windowMaximum=maximum,outputMinimum=0,outputMaximum=255)\n",
    "        writer.SetFileName(name)\n",
    "        writer.Execute(image)\n",
    "    else:\n",
    "        warnings.warn(f\"{name} does not exist in this root\")"
   ]
  },
  {
   "cell_type": "markdown",
   "id": "08bfba89-62e1-44e6-ae78-ff3db6d6d9ca",
   "metadata": {},
   "source": [
    "## Discretitazion\n",
    "This code block is developed to visualize what happens in dicretization and provide an intution of what discretization is doing."
   ]
  },
  {
   "cell_type": "code",
   "execution_count": 8,
   "id": "0037c2d7-3f30-4f51-ad7b-ba6f588ad015",
   "metadata": {},
   "outputs": [],
   "source": [
    "path = '' # path to the folder containing the image\n",
    "os.chdir(path)\n",
    "name = 'image.tif' # name of the image to discritize\n",
    "writer = sitk.ImageFileWriter()\n",
    "iMAGE = sitk.ReadImage(name)\n",
    "iMAGE_array = sitk.GetArrayFromImage(iMAGE)\n",
    "bin_number = 16\n",
    "discrete=cv2.normalize(iMAGE_array, None, 0, bin_number,cv2.NORM_MINMAX, dtype=cv2.CV_8UC1)\n",
    "discrete = sitk.GetImageFromArray(discrete)\n",
    "writer.SetFileName(f\"{bin_number}Bins.tif\")\n",
    "writer.Execute(discrete)"
   ]
  },
  {
   "cell_type": "code",
   "execution_count": null,
   "id": "2bca743e-1f46-48a8-86e2-badcef8a4082",
   "metadata": {},
   "outputs": [],
   "source": []
  }
 ],
 "metadata": {
  "kernelspec": {
   "display_name": "RadOmics",
   "language": "python",
   "name": "radomics"
  },
  "language_info": {
   "codemirror_mode": {
    "name": "ipython",
    "version": 3
   },
   "file_extension": ".py",
   "mimetype": "text/x-python",
   "name": "python",
   "nbconvert_exporter": "python",
   "pygments_lexer": "ipython3",
   "version": "3.9.19"
  },
  "toc-autonumbering": false,
  "toc-showcode": true
 },
 "nbformat": 4,
 "nbformat_minor": 5
}
