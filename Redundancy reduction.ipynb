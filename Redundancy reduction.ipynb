{
 "cells": [
  {
   "cell_type": "code",
   "execution_count": 1,
   "id": "62fae199-cdc2-452e-8727-ce0515b2f0de",
   "metadata": {},
   "outputs": [],
   "source": [
    "import numpy as np\n",
    "import pandas as pd\n",
    "import itertools\n",
    "from scipy.stats import pearsonr\n",
    "from tmaR import FeatureProcessing\n",
    "from sklearn import preprocessing\n",
    "from sklearn import feature_selection as fs\n",
    "from sklearn.feature_selection import VarianceThreshold\n",
    "from umap import UMAP\n",
    "from combat.pycombat import pycombat\n",
    "from sklearn.preprocessing import StandardScaler"
   ]
  },
  {
   "cell_type": "code",
   "execution_count": 2,
   "id": "d0e3fe67-a5a1-4bdf-bf26-01c837d875dd",
   "metadata": {},
   "outputs": [],
   "source": [
    "def pairwise_pearsonr(df,threshold=0.95,p_val=0.05):\n",
    "    \n",
    "    from random import choice\n",
    "    \n",
    "    columns = df.columns.tolist()\n",
    "    redundant = np.ones(np.size(columns),dtype=bool)\n",
    "\n",
    "    for col1, col2 in itertools.combinations(columns,2):\n",
    "        ind1, ind2 = columns.index(col1), columns.index(col2)\n",
    "        if (redundant[ind1]==False) | (redundant[ind2] == False):\n",
    "            continue\n",
    "        else:\n",
    "            correlation = pearsonr(df[col1],df[col2])\n",
    "            if (correlation[0]>threshold) & (correlation[1]<p_val):\n",
    "                redundant[choice([ind1,ind2])]=False\n",
    "    return redundant"
   ]
  },
  {
   "cell_type": "code",
   "execution_count": null,
   "id": "719c8c98-1f8b-4df5-9742-08a59a84862e",
   "metadata": {},
   "outputs": [],
   "source": [
    "%store -r radiomics\n",
    "%store -r meta_data\n",
    "%store -r ICC\n",
    "%store -r ICC_features\n",
    "\n",
    "# Extracting batch labels required for combat\n",
    "batch = pd.factorize(meta_data['TMA'].astype(str) + meta_data['Grid'])[0]\n",
    "batch = pd.Series(batch)\n",
    "\n",
    "# Define threshold and p-value criteria\n",
    "threshold = 0.75\n",
    "p_value_threshold = 0.05\n",
    "\n",
    "# Determine reliable and unreliable features\n",
    "reliable_features = [\n",
    "    feature for feature in ICC_features\n",
    "    if (ICC[feature]['ICC'][2] > threshold) and (ICC[feature]['pval'][2] < p_value_threshold)\n",
    "]\n",
    "\n",
    "unreliable_features = [feature for feature in ICC_features if feature not in reliable_features]\n",
    "\n",
    "# Output results\n",
    "num_reliable = len(reliable_features)\n",
    "num_unreliable = len(unreliable_features)\n",
    "\n",
    "print(f\"Threshold: {threshold}\")\n",
    "print(f\"Reliable features: {num_reliable}\")\n",
    "print(f\"Unreliable features: {num_unreliable}\")"
   ]
  },
  {
   "cell_type": "code",
   "execution_count": 4,
   "id": "f16c1ecb-6942-49f7-b6d7-359815e98cb6",
   "metadata": {},
   "outputs": [],
   "source": [
    "radiomics = radiomics[reliable_features]"
   ]
  },
  {
   "cell_type": "code",
   "execution_count": null,
   "id": "d4964c2a-33b7-49be-a662-d2f11b919a13",
   "metadata": {},
   "outputs": [],
   "source": [
    "# Apply log transformation\n",
    "radiomics = np.sign(radiomics) * np.log1p(abs(radiomics))\n",
    "\n",
    "radiomics_transpose = radiomics.T  # Now features are rows, samples are columns\n",
    "radiomics_transpose = pycombat(radiomics_transpose, batch)\n",
    "\n",
    "radiomics = radiomics_transpose.T"
   ]
  },
  {
   "cell_type": "code",
   "execution_count": 6,
   "id": "f4a88ceb-a616-45fd-92e4-a4e40a680479",
   "metadata": {},
   "outputs": [
    {
     "name": "stderr",
     "output_type": "stream",
     "text": [
      "C:\\Users\\taki\\AppData\\Local\\Temp\\ipykernel_8720\\3502272804.py:13: NearConstantInputWarning: An input array is nearly constant; the computed correlation coefficient may be inaccurate.\n",
      "  correlation = pearsonr(df[col1],df[col2])\n"
     ]
    }
   ],
   "source": [
    "redundant_features = pairwise_pearsonr(radiomics,threshold=0.95,p_val=0.05)"
   ]
  },
  {
   "cell_type": "code",
   "execution_count": null,
   "id": "b864ef72-6f4b-416a-b129-150c8717ce50",
   "metadata": {},
   "outputs": [],
   "source": [
    "# Select columns where the boolean array is True\n",
    "processed_radiomics = radiomics.loc[:, redundant_features]\n",
    "good_features = processed_radiomics.columns.tolist()\n",
    "# Print selected column names\n",
    "print(\"Selected Columns:\", good_features)"
   ]
  },
  {
   "cell_type": "code",
   "execution_count": null,
   "id": "5fd91d12-bfc8-44aa-9cfa-26a4973ff884",
   "metadata": {},
   "outputs": [],
   "source": [
    "%store good_features"
   ]
  }
 ],
 "metadata": {
  "kernelspec": {
   "display_name": "RadOmics",
   "language": "python",
   "name": "radomics"
  },
  "language_info": {
   "codemirror_mode": {
    "name": "ipython",
    "version": 3
   },
   "file_extension": ".py",
   "mimetype": "text/x-python",
   "name": "python",
   "nbconvert_exporter": "python",
   "pygments_lexer": "ipython3",
   "version": "3.9.19"
  }
 },
 "nbformat": 4,
 "nbformat_minor": 5
}
