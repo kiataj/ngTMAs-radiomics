{
 "cells": [
  {
   "cell_type": "code",
   "execution_count": 1,
   "id": "62fae199-cdc2-452e-8727-ce0515b2f0de",
   "metadata": {},
   "outputs": [],
   "source": [
    "import numpy as np\n",
    "import pandas as pd\n",
    "import itertools\n",
    "from scipy.stats import pearsonr\n",
    "from tmaR import FeatureProcessing\n",
    "from sklearn import preprocessing\n",
    "from sklearn import feature_selection as fs\n",
    "from sklearn.feature_selection import VarianceThreshold\n",
    "from umap import UMAP\n",
    "from combat.pycombat import pycombat\n",
    "from sklearn.preprocessing import StandardScaler"
   ]
  },
  {
   "cell_type": "code",
   "execution_count": 2,
   "id": "d0e3fe67-a5a1-4bdf-bf26-01c837d875dd",
   "metadata": {},
   "outputs": [],
   "source": [
    "def pairwise_pearsonr(df,threshold=0.95,p_val=0.05):\n",
    "    \n",
    "    from random import choice\n",
    "    \n",
    "    columns = df.columns.tolist()\n",
    "    redundant = np.ones(np.size(columns),dtype=bool)\n",
    "\n",
    "    for col1, col2 in itertools.combinations(columns,2):\n",
    "        ind1, ind2 = columns.index(col1), columns.index(col2)\n",
    "        if (redundant[ind1]==False) | (redundant[ind2] == False):\n",
    "            continue\n",
    "        else:\n",
    "            correlation = pearsonr(df[col1],df[col2])\n",
    "            if (correlation[0]>threshold) & (correlation[1]<p_val):\n",
    "                redundant[choice([ind1,ind2])]=False\n",
    "    return redundant"
   ]
  },
  {
   "cell_type": "code",
   "execution_count": 3,
   "id": "719c8c98-1f8b-4df5-9742-08a59a84862e",
   "metadata": {},
   "outputs": [
    {
     "name": "stdout",
     "output_type": "stream",
     "text": [
      "Threshold: 0.75\n",
      "Reliable features: 242\n",
      "Unreliable features: 1045\n"
     ]
    }
   ],
   "source": [
    "%store -r radiomics\n",
    "%store -r meta_data\n",
    "%store -r ICC\n",
    "%store -r ICC_features\n",
    "\n",
    "# Extracting batch labels required for combat\n",
    "batch = pd.factorize(meta_data['TMA'].astype(str) + meta_data['Grid'])[0]\n",
    "batch = pd.Series(batch)\n",
    "\n",
    "# Define threshold and p-value criteria\n",
    "threshold = 0.75\n",
    "p_value_threshold = 0.05\n",
    "\n",
    "# Determine reliable and unreliable features\n",
    "reliable_features = [\n",
    "    feature for feature in ICC_features\n",
    "    if (ICC[feature]['ICC'][2] > threshold) and (ICC[feature]['pval'][2] < p_value_threshold)\n",
    "]\n",
    "\n",
    "unreliable_features = [feature for feature in ICC_features if feature not in reliable_features]\n",
    "\n",
    "# Output results\n",
    "num_reliable = len(reliable_features)\n",
    "num_unreliable = len(unreliable_features)\n",
    "\n",
    "print(f\"Threshold: {threshold}\")\n",
    "print(f\"Reliable features: {num_reliable}\")\n",
    "print(f\"Unreliable features: {num_unreliable}\")"
   ]
  },
  {
   "cell_type": "code",
   "execution_count": 4,
   "id": "f16c1ecb-6942-49f7-b6d7-359815e98cb6",
   "metadata": {},
   "outputs": [],
   "source": [
    "radiomics = radiomics[reliable_features]"
   ]
  },
  {
   "cell_type": "code",
   "execution_count": 5,
   "id": "d4964c2a-33b7-49be-a662-d2f11b919a13",
   "metadata": {},
   "outputs": [
    {
     "name": "stdout",
     "output_type": "stream",
     "text": [
      "Found 6 batches.\n",
      "Adjusting for 0 covariate(s) or covariate level(s).\n",
      "Standardizing Data across genes.\n",
      "Fitting L/S model and finding priors.\n",
      "Finding parametric adjustments.\n",
      "Adjusting the Data\n"
     ]
    }
   ],
   "source": [
    "# Assuming 'radiomics' is your input DataFrame\n",
    "selector = VarianceThreshold(threshold=0.0)\n",
    "\n",
    "# Fit and transform the feature selection\n",
    "temp = selector.fit_transform(radiomics)\n",
    "\n",
    "# Get the selected feature names correctly\n",
    "selected_features = radiomics.columns[selector.get_support()]\n",
    "\n",
    "# Create a DataFrame with the correct columns\n",
    "radiomics = pd.DataFrame(temp, index=radiomics.index, columns=selected_features)\n",
    "\n",
    "# Apply log transformation\n",
    "radiomics = np.sign(radiomics) * np.log1p(abs(radiomics))\n",
    "\n",
    "radiomics_transpose = radiomics.T  # Now features are rows, samples are columns\n",
    "radiomics_transpose = pycombat(radiomics_transpose, batch)\n",
    "\n",
    "radiomics = radiomics_transpose.T"
   ]
  },
  {
   "cell_type": "code",
   "execution_count": 6,
   "id": "f4a88ceb-a616-45fd-92e4-a4e40a680479",
   "metadata": {},
   "outputs": [
    {
     "name": "stderr",
     "output_type": "stream",
     "text": [
      "C:\\Users\\taki\\AppData\\Local\\Temp\\ipykernel_21484\\3502272804.py:13: NearConstantInputWarning: An input array is nearly constant; the computed correlation coefficient may be inaccurate.\n",
      "  correlation = pearsonr(df[col1],df[col2])\n"
     ]
    }
   ],
   "source": [
    "redundant_features = pairwise_pearsonr(radiomics,threshold=0.95,p_val=0.05)"
   ]
  },
  {
   "cell_type": "code",
   "execution_count": 11,
   "id": "b864ef72-6f4b-416a-b129-150c8717ce50",
   "metadata": {},
   "outputs": [
    {
     "name": "stdout",
     "output_type": "stream",
     "text": [
      "Selected Columns: ['original_firstorder_Kurtosis', 'original_firstorder_Skewness', 'original_gldm_SmallDependenceHighGrayLevelEmphasis', 'original_glcm_Imc2', 'original_glcm_SumAverage', 'original_glszm_GrayLevelVariance', 'original_glszm_ZoneEntropy', 'logarithm_glcm_Correlation', 'logarithm_glcm_MCC', 'gradient_gldm_DependenceEntropy', 'gradient_gldm_LargeDependenceHighGrayLevelEmphasis', 'gradient_glcm_ClusterTendency', 'gradient_glcm_Correlation', 'gradient_glrlm_GrayLevelNonUniformityNormalized', 'gradient_glrlm_RunEntropy', 'gradient_glszm_GrayLevelVariance', 'gradient_glszm_ZoneEntropy', 'squareroot_firstorder_Maximum', 'squareroot_firstorder_Range', 'squareroot_glcm_Imc1', 'squareroot_glcm_Imc2', 'squareroot_glszm_ZoneEntropy', 'exponential_firstorder_10Percentile', 'exponential_firstorder_RobustMeanAbsoluteDeviation', 'exponential_firstorder_Variance', 'exponential_glrlm_GrayLevelNonUniformityNormalized', 'exponential_glrlm_ShortRunEmphasis', 'exponential_glrlm_ShortRunHighGrayLevelEmphasis', 'log-sigma-2-mm-3D_firstorder_10Percentile', 'log-sigma-2-mm-3D_firstorder_90Percentile', 'log-sigma-2-mm-3D_gldm_DependenceVariance', 'log-sigma-2-mm-3D_gldm_HighGrayLevelEmphasis', 'log-sigma-2-mm-3D_gldm_LowGrayLevelEmphasis', 'log-sigma-2-mm-3D_glcm_ClusterShade', 'log-sigma-2-mm-3D_glcm_Idm', 'log-sigma-2-mm-3D_glcm_Imc2', 'log-sigma-2-mm-3D_glcm_JointEntropy', 'log-sigma-2-mm-3D_glcm_MCC', 'log-sigma-2-mm-3D_glrlm_GrayLevelVariance', 'log-sigma-2-mm-3D_glrlm_HighGrayLevelRunEmphasis', 'log-sigma-2-mm-3D_glrlm_LongRunLowGrayLevelEmphasis', 'log-sigma-2-mm-3D_glrlm_LowGrayLevelRunEmphasis', 'log-sigma-2-mm-3D_glrlm_ShortRunHighGrayLevelEmphasis', 'log-sigma-2-mm-3D_glszm_GrayLevelNonUniformityNormalized', 'log-sigma-2-mm-3D_glszm_GrayLevelVariance', 'log-sigma-2-mm-3D_glszm_HighGrayLevelZoneEmphasis', 'log-sigma-2-mm-3D_glszm_LowGrayLevelZoneEmphasis', 'log-sigma-2-mm-3D_glszm_SmallAreaEmphasis', 'log-sigma-2-mm-3D_glszm_SmallAreaHighGrayLevelEmphasis', 'log-sigma-2-mm-3D_ngtdm_Contrast', 'wavelet-HHL_firstorder_Median', 'wavelet-HHL_glcm_Correlation', 'wavelet-HHL_glrlm_RunEntropy', 'wavelet-HLH_firstorder_Median', 'wavelet-HLH_gldm_DependenceEntropy', 'wavelet-HLH_glcm_Imc1', 'wavelet-HLH_glcm_Imc2', 'wavelet-HLH_glcm_MCC', 'wavelet-HLH_glrlm_LongRunLowGrayLevelEmphasis', 'wavelet-HLH_glrlm_RunEntropy', 'wavelet-HLH_glszm_ZoneEntropy', 'wavelet-HLL_firstorder_Uniformity', 'wavelet-HLL_gldm_DependenceEntropy', 'wavelet-HLL_gldm_LargeDependenceLowGrayLevelEmphasis', 'wavelet-HLL_gldm_LowGrayLevelEmphasis', 'wavelet-HLL_glcm_Correlation', 'wavelet-HLL_glcm_SumSquares', 'wavelet-HLL_glrlm_GrayLevelNonUniformityNormalized', 'wavelet-HLL_glszm_ZoneEntropy', 'wavelet-LHH_glcm_Correlation', 'wavelet-LHH_glcm_Imc1', 'wavelet-LHH_glcm_MCC', 'wavelet-LHH_glrlm_RunEntropy', 'wavelet-LHL_firstorder_10Percentile', 'wavelet-LHL_gldm_DependenceEntropy', 'wavelet-LHL_gldm_GrayLevelVariance', 'wavelet-LHL_glcm_Imc1', 'wavelet-LHL_glcm_Imc2', 'wavelet-LHL_glrlm_GrayLevelNonUniformityNormalized', 'wavelet-LLH_firstorder_10Percentile', 'wavelet-LLH_gldm_DependenceEntropy', 'wavelet-LLH_gldm_LargeDependenceLowGrayLevelEmphasis', 'wavelet-LLH_gldm_LowGrayLevelEmphasis', 'wavelet-LLH_glcm_ClusterProminence', 'wavelet-LLH_glcm_Imc1', 'wavelet-LLH_glcm_MCC', 'wavelet-LLH_glrlm_LongRunLowGrayLevelEmphasis', 'wavelet-LLH_glrlm_RunEntropy', 'wavelet-LLL_firstorder_90Percentile', 'wavelet-LLL_firstorder_RobustMeanAbsoluteDeviation', 'wavelet-LLL_firstorder_TotalEnergy', 'wavelet-LLL_gldm_LargeDependenceLowGrayLevelEmphasis', 'wavelet-LLL_gldm_SmallDependenceHighGrayLevelEmphasis', 'wavelet-LLL_glcm_Imc2', 'wavelet-LLL_glcm_SumEntropy', 'wavelet-LLL_glcm_SumSquares', 'wavelet-LLL_glrlm_GrayLevelNonUniformityNormalized', 'wavelet-LLL_glrlm_HighGrayLevelRunEmphasis', 'wavelet-LLL_glszm_ZoneEntropy']\n"
     ]
    }
   ],
   "source": [
    "# Select columns where the boolean array is True\n",
    "radiomics = radiomics.loc[:, redundant_features]\n",
    "\n",
    "# Print selected column names\n",
    "print(\"Selected Columns:\", list(radiomics.columns))"
   ]
  },
  {
   "cell_type": "code",
   "execution_count": 12,
   "id": "2ec58fe9-d800-4806-a998-be3c40514792",
   "metadata": {},
   "outputs": [],
   "source": [
    "# Initialize StandardScaler\n",
    "scaler = StandardScaler()\n",
    "# Fit and transform the data\n",
    "radiomics = pd.DataFrame(scaler.fit_transform(radiomics), columns=radiomics.columns, index=radiomics.index)\n"
   ]
  },
  {
   "cell_type": "code",
   "execution_count": 13,
   "id": "5fd91d12-bfc8-44aa-9cfa-26a4973ff884",
   "metadata": {},
   "outputs": [
    {
     "name": "stdout",
     "output_type": "stream",
     "text": [
      "Stored 'radiomics' (DataFrame)\n"
     ]
    }
   ],
   "source": [
    "%store radiomics"
   ]
  },
  {
   "cell_type": "code",
   "execution_count": null,
   "id": "cb065bd9-ac88-4dd1-9cdc-3d900e3e6993",
   "metadata": {},
   "outputs": [],
   "source": []
  }
 ],
 "metadata": {
  "kernelspec": {
   "display_name": "RadOmics",
   "language": "python",
   "name": "radomics"
  },
  "language_info": {
   "codemirror_mode": {
    "name": "ipython",
    "version": 3
   },
   "file_extension": ".py",
   "mimetype": "text/x-python",
   "name": "python",
   "nbconvert_exporter": "python",
   "pygments_lexer": "ipython3",
   "version": "3.9.19"
  }
 },
 "nbformat": 4,
 "nbformat_minor": 5
}
