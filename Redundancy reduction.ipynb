{
 "cells": [
  {
   "cell_type": "code",
   "execution_count": 1,
   "id": "62fae199-cdc2-452e-8727-ce0515b2f0de",
   "metadata": {},
   "outputs": [],
   "source": [
    "import numpy as np\n",
    "import pandas as pd\n",
    "import itertools\n",
    "from scipy.stats import pearsonr\n",
    "from tmaR import FeatureProcessing"
   ]
  },
  {
   "cell_type": "code",
   "execution_count": 2,
   "id": "d0e3fe67-a5a1-4bdf-bf26-01c837d875dd",
   "metadata": {},
   "outputs": [],
   "source": [
    "def pairwise_pearsonr(df,threshold=0.95,p_val=0.05):\n",
    "    \n",
    "    from random import choice\n",
    "    \n",
    "    columns = df.columns.tolist()\n",
    "    redundant = np.ones(np.size(columns),dtype=bool)\n",
    "\n",
    "    for col1, col2 in itertools.combinations(columns,2):\n",
    "        ind1, ind2 = columns.index(col1), columns.index(col2)\n",
    "        if (redundant[ind1]==False) | (redundant[ind2] == False):\n",
    "            continue\n",
    "        else:\n",
    "            correlation = pearsonr(df[col1],df[col2])\n",
    "            if (correlation[0]>threshold) & (correlation[1]<p_val):\n",
    "                redundant[choice([ind1,ind2])]=False\n",
    "    return redundant"
   ]
  },
  {
   "cell_type": "code",
   "execution_count": 3,
   "id": "f4a88ceb-a616-45fd-92e4-a4e40a680479",
   "metadata": {},
   "outputs": [
    {
     "name": "stderr",
     "output_type": "stream",
     "text": [
      "C:\\Users\\taki\\AppData\\Local\\Temp\\ipykernel_46936\\3502272804.py:13: NearConstantInputWarning: An input array is nearly constant; the computed correlation coefficient may be inaccurate.\n",
      "  correlation = pearsonr(df[col1],df[col2])\n"
     ]
    }
   ],
   "source": [
    "%store -r radiomics_corrected\n",
    "redundant_features = pairwise_pearsonr(radiomics_corrected,threshold=0.95,p_val=0.05)"
   ]
  },
  {
   "cell_type": "code",
   "execution_count": 4,
   "id": "b864ef72-6f4b-416a-b129-150c8717ce50",
   "metadata": {},
   "outputs": [
    {
     "name": "stdout",
     "output_type": "stream",
     "text": [
      "Stored 'processed_radiomics' (DataFrame)\n",
      "Stored 'good_features' (list)\n"
     ]
    }
   ],
   "source": [
    "# Select columns where the boolean array \"redundant_features \"is True\n",
    "processed_radiomics = radiomics_corrected.loc[:, redundant_features]\n",
    "good_features = processed_radiomics.columns.tolist()\n",
    "# Print selected column names\n",
    "#print(\"Selected Columns:\", good_features)\n",
    "%store processed_radiomics\n",
    "%store good_features"
   ]
  },
  {
   "cell_type": "code",
   "execution_count": 5,
   "id": "bec5e565-8798-418e-bf81-77dc12a9c531",
   "metadata": {},
   "outputs": [
    {
     "name": "stdout",
     "output_type": "stream",
     "text": [
      "BEFORE - number of features: 242\n",
      "AFTER - number of features: 97\n"
     ]
    }
   ],
   "source": [
    "print(f\"BEFORE - number of features: {radiomics_corrected.shape[1]}\")\n",
    "print(f\"AFTER - number of features: {processed_radiomics.shape[1]}\")"
   ]
  },
  {
   "cell_type": "code",
   "execution_count": 7,
   "id": "25116c37-426c-4966-9bac-28ad8f6372fe",
   "metadata": {},
   "outputs": [
    {
     "name": "stdout",
     "output_type": "stream",
     "text": [
      "\n",
      " \n",
      "filter class             #Features\n",
      "---------------------  -----------\n",
      "original                         9\n",
      "exponential                      3\n",
      "gradient                         8\n",
      "lbp-3D-k                         0\n",
      "lbp-3D-m2                        0\n",
      "lbp-3D-m1                        0\n",
      "log-            sigma            0\n",
      "logarithm                        1\n",
      "square                           0\n",
      "squareroot                       4\n",
      "wavelet                         50\n",
      "\n",
      "\n",
      "\n",
      "feature class      #Features\n",
      "---------------  -----------\n",
      "firstorder                18\n",
      "gldm                      13\n",
      "glcm                      30\n",
      "glrlm                     22\n",
      "glszm                     14\n",
      "ngtdm                      0\n"
     ]
    }
   ],
   "source": [
    "_=FeatureProcessing.divide_by_FilterClass(good_features)\n",
    "print(\"\\n\\n\")\n",
    "_=FeatureProcessing.divide_by_FeatureClass(good_features)"
   ]
  },
  {
   "cell_type": "code",
   "execution_count": null,
   "id": "179420c9-9893-4519-a10c-b1523ddfb819",
   "metadata": {},
   "outputs": [],
   "source": []
  }
 ],
 "metadata": {
  "kernelspec": {
   "display_name": "RadOmics",
   "language": "python",
   "name": "radomics"
  },
  "language_info": {
   "codemirror_mode": {
    "name": "ipython",
    "version": 3
   },
   "file_extension": ".py",
   "mimetype": "text/x-python",
   "name": "python",
   "nbconvert_exporter": "python",
   "pygments_lexer": "ipython3",
   "version": "3.9.19"
  }
 },
 "nbformat": 4,
 "nbformat_minor": 5
}
